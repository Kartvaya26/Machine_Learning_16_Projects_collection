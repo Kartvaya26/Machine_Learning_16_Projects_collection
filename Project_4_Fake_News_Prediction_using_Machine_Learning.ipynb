{
  "cells": [
    {
      "cell_type": "markdown",
      "metadata": {
        "id": "Sfo4kW2N8qMy"
      },
      "source": [
        "About the Dataset:\n",
        "1. is: unique id foe a news article\n",
        "2. title: the title of a news article\n",
        "3. author: author of the news article\n",
        "4. text: the of the article:could be incomplete\n",
        "5. label: a label that marks whether the news article is real or fake:"
      ]
    },
    {
      "cell_type": "code",
      "execution_count": 66,
      "metadata": {
        "id": "25pbNeXkGgcR"
      },
      "outputs": [],
      "source": [
        "# 1: Fake News\n",
        "# 2: Real News"
      ]
    },
    {
      "cell_type": "markdown",
      "metadata": {
        "id": "0hDrJAQ7HBwP"
      },
      "source": [
        "Importing the Dependencies"
      ]
    },
    {
      "cell_type": "code",
      "execution_count": 67,
      "metadata": {
        "id": "jbELJEoOHIYw"
      },
      "outputs": [],
      "source": [
        "import numpy as np\n",
        "import pandas as pd\n",
        "import re\n",
        "from nltk.corpus import stopwords\n",
        "from nltk.stem.porter import PorterStemmer\n",
        "from sklearn.feature_extraction.text import TfidfVectorizer\n",
        "from sklearn.model_selection import train_test_split\n",
        "from sklearn.linear_model import LogisticRegression\n",
        "from sklearn.metrics import accuracy_score"
      ]
    },
    {
      "cell_type": "code",
      "execution_count": 68,
      "metadata": {
        "colab": {
          "base_uri": "https://localhost:8080/"
        },
        "id": "WYVShQXkPjcm",
        "outputId": "abfdcb86-41e1-4c9c-a1e8-5f7216882172"
      },
      "outputs": [
        {
          "name": "stderr",
          "output_type": "stream",
          "text": [
            "[nltk_data] Downloading package stopwords to /root/nltk_data...\n",
            "[nltk_data]   Package stopwords is already up-to-date!\n"
          ]
        },
        {
          "data": {
            "text/plain": [
              "True"
            ]
          },
          "execution_count": 68,
          "metadata": {},
          "output_type": "execute_result"
        }
      ],
      "source": [
        "import nltk\n",
        "nltk.download('stopwords')"
      ]
    },
    {
      "cell_type": "code",
      "execution_count": 69,
      "metadata": {
        "colab": {
          "base_uri": "https://localhost:8080/"
        },
        "id": "yPpH_nRrQECf",
        "outputId": "f4b2d0f4-1490-4942-f94e-5e84b08a142d"
      },
      "outputs": [
        {
          "name": "stdout",
          "output_type": "stream",
          "text": [
            "['a', 'about', 'above', 'after', 'again', 'against', 'ain', 'all', 'am', 'an', 'and', 'any', 'are', 'aren', \"aren't\", 'as', 'at', 'be', 'because', 'been', 'before', 'being', 'below', 'between', 'both', 'but', 'by', 'can', 'couldn', \"couldn't\", 'd', 'did', 'didn', \"didn't\", 'do', 'does', 'doesn', \"doesn't\", 'doing', 'don', \"don't\", 'down', 'during', 'each', 'few', 'for', 'from', 'further', 'had', 'hadn', \"hadn't\", 'has', 'hasn', \"hasn't\", 'have', 'haven', \"haven't\", 'having', 'he', \"he'd\", \"he'll\", 'her', 'here', 'hers', 'herself', \"he's\", 'him', 'himself', 'his', 'how', 'i', \"i'd\", 'if', \"i'll\", \"i'm\", 'in', 'into', 'is', 'isn', \"isn't\", 'it', \"it'd\", \"it'll\", \"it's\", 'its', 'itself', \"i've\", 'just', 'll', 'm', 'ma', 'me', 'mightn', \"mightn't\", 'more', 'most', 'mustn', \"mustn't\", 'my', 'myself', 'needn', \"needn't\", 'no', 'nor', 'not', 'now', 'o', 'of', 'off', 'on', 'once', 'only', 'or', 'other', 'our', 'ours', 'ourselves', 'out', 'over', 'own', 're', 's', 'same', 'shan', \"shan't\", 'she', \"she'd\", \"she'll\", \"she's\", 'should', 'shouldn', \"shouldn't\", \"should've\", 'so', 'some', 'such', 't', 'than', 'that', \"that'll\", 'the', 'their', 'theirs', 'them', 'themselves', 'then', 'there', 'these', 'they', \"they'd\", \"they'll\", \"they're\", \"they've\", 'this', 'those', 'through', 'to', 'too', 'under', 'until', 'up', 've', 'very', 'was', 'wasn', \"wasn't\", 'we', \"we'd\", \"we'll\", \"we're\", 'were', 'weren', \"weren't\", \"we've\", 'what', 'when', 'where', 'which', 'while', 'who', 'whom', 'why', 'will', 'with', 'won', \"won't\", 'wouldn', \"wouldn't\", 'y', 'you', \"you'd\", \"you'll\", 'your', \"you're\", 'yours', 'yourself', 'yourselves', \"you've\"]\n"
          ]
        }
      ],
      "source": [
        "# printing the stopwords in english\n",
        "print(stopwords.words('english'))"
      ]
    },
    {
      "cell_type": "markdown",
      "metadata": {
        "id": "xh0Dij5MSsCs"
      },
      "source": [
        "Data Pre-Processing"
      ]
    },
    {
      "cell_type": "code",
      "execution_count": null,
      "metadata": {
        "id": "vVwLK0j7RkUG"
      },
      "outputs": [],
      "source": [
        "news_dataset = pd.read_csv('/content/WELFake_Dataset.csv', on_bad_lines='skip')\n"
      ]
    },
    {
      "cell_type": "code",
      "execution_count": 71,
      "metadata": {
        "colab": {
          "base_uri": "https://localhost:8080/"
        },
        "id": "S2-377IvYZMx",
        "outputId": "4863236a-6840-4b93-e9c1-63e6886cdf8a"
      },
      "outputs": [
        {
          "data": {
            "text/plain": [
              "(72134, 4)"
            ]
          },
          "execution_count": 71,
          "metadata": {},
          "output_type": "execute_result"
        }
      ],
      "source": [
        "news_dataset.shape"
      ]
    },
    {
      "cell_type": "code",
      "execution_count": 72,
      "metadata": {
        "colab": {
          "base_uri": "https://localhost:8080/",
          "height": 206
        },
        "id": "vEipgeykamD3",
        "outputId": "257bbc5c-56bd-41fa-cbf0-dd0ada68a5ac"
      },
      "outputs": [
        {
          "data": {
            "application/vnd.google.colaboratory.intrinsic+json": {
              "summary": "{\n  \"name\": \"news_dataset\",\n  \"rows\": 72134,\n  \"fields\": [\n    {\n      \"column\": \"Unnamed: 0\",\n      \"properties\": {\n        \"dtype\": \"number\",\n        \"std\": 20823,\n        \"min\": 0,\n        \"max\": 72133,\n        \"num_unique_values\": 72134,\n        \"samples\": [\n          61370,\n          2189,\n          60609\n        ],\n        \"semantic_type\": \"\",\n        \"description\": \"\"\n      }\n    },\n    {\n      \"column\": \"title\",\n      \"properties\": {\n        \"dtype\": \"string\",\n        \"num_unique_values\": 62347,\n        \"samples\": [\n          \"BBC Under Fire for \\u2018Transgender Diaries\\u2019 Program Aimed at Children as Young as Six\",\n          \" Hillary\\u2019s Running Mate Tim Kaine: The NRA Hates Him, And He Kicked Their Butts (VIDEO)\",\n          \" Trump Outrageously Refers To Elizabeth Warren As \\u2018Pocahontas\\u2019 During Meeting With Senators\"\n        ],\n        \"semantic_type\": \"\",\n        \"description\": \"\"\n      }\n    },\n    {\n      \"column\": \"text\",\n      \"properties\": {\n        \"dtype\": \"string\",\n        \"num_unique_values\": 62718,\n        \"samples\": [\n          \"WASHINGTON (Reuters) - Michael Cohen, one of President Donald Trump\\u2019s closest business advisers, said on Sunday he would testify on Tuesday to the U.S. Senate Intelligence Committee, as the panel investigates alleged Russian interference in the 2016 U.S. election. The timing of Cohen\\u2019s testimony was first reported by NBC. Cohen confirmed that he would testify to the committee on Tuesday and said he did not know whether it would be in a closed session or public. Aides to the committee\\u2019s leaders did not immediately respond to requests for comment. Cohen said previously he had received a subpoena from at least one of the congressional committees investigating what U.S. intelligence has determined were Russia\\u2019s efforts to influence the election on Trump\\u2019s behalf, and whether Trump associates colluded with Russia. Russia denies such activity. The White House denies any collusion, but concerns about the issue and Trump\\u2019s ties to Russia have shadowed the first months of the Republican\\u2019s presidency. Cohen, a personal attorney to Trump, would be one of a series of close associates of the president to testify in Congress. Members of both the Senate and House of Representatives committees conducting investigations have said they expect to call more. Trump\\u2019s oldest son, Donald Trump Jr., testified to the Senate Judiciary Committee earlier this month. \",\n          \"HARARE (Reuters) - Zimbabwe s main opposition leader said on Monday President Robert Mugabe s refusal to resign had dampened people s spirits and called for an inclusive political process in the aftermath of a military intervention last week. Morgan Tsvangirai said there should be an all-stakeholders meeting to chart the country s future and that the next elections due next year should be supervised by the international community. \",\n          \"There is no word yet about whether or not the Hispanics in question were referred to by the plaintiff as  White Hispanics, (the George Zimmerman variety) Legendary restaurant Roscoe s House of Chicken  n Waffles has to cough up $1.6 million in an unlawful termination suit to an African American man who claimed he was discriminated against because he was black.The claim proves to be somewhat ironic given that the owner of the eatery, where President Barack Obama once dined when visiting Compton, is African American.CBS Los Angeles reported that Daniel Beasley sued Roscoe s for firing him after he complained to human resources that the managers harassed him for being black and gave preferential treatment, such as better work hours, to the Hispanic employees. It s owned by an African American owner, but he gives full authority to the Hispanics to run it,  Beasley told reporters.  It just caught me by surprise because here I am getting fired when I m trying to fix the problem. Beasley was frustrated that his complaints to management never got addressed, so he sued.  It s owned by an African American owner, but he gives full authority to the Hispanics to run it,  he told reporters.  It just caught me by surprise because here I am getting fired when I m trying to fix the problem. Beasley explained to CBS that he became homeless after he lost his job, so the hefty settlement becomes a huge victory for the grandfather from Compton.His lawyer Scott Cummings hopes that this win sends a message to other businesses out there.  Racism, racial harassment can occur really anywhere even in a black-owned business,  he asserted. Beasley added,  You can t treat people like that and get away with it constantly.  Via: Breitbart News\"\n        ],\n        \"semantic_type\": \"\",\n        \"description\": \"\"\n      }\n    },\n    {\n      \"column\": \"label\",\n      \"properties\": {\n        \"dtype\": \"number\",\n        \"std\": 0,\n        \"min\": 0,\n        \"max\": 1,\n        \"num_unique_values\": 2,\n        \"samples\": [\n          0,\n          1\n        ],\n        \"semantic_type\": \"\",\n        \"description\": \"\"\n      }\n    }\n  ]\n}",
              "type": "dataframe",
              "variable_name": "news_dataset"
            },
            "text/html": [
              "\n",
              "  <div id=\"df-582abbd3-21b8-4214-aefa-a2eeda6f9416\" class=\"colab-df-container\">\n",
              "    <div>\n",
              "<style scoped>\n",
              "    .dataframe tbody tr th:only-of-type {\n",
              "        vertical-align: middle;\n",
              "    }\n",
              "\n",
              "    .dataframe tbody tr th {\n",
              "        vertical-align: top;\n",
              "    }\n",
              "\n",
              "    .dataframe thead th {\n",
              "        text-align: right;\n",
              "    }\n",
              "</style>\n",
              "<table border=\"1\" class=\"dataframe\">\n",
              "  <thead>\n",
              "    <tr style=\"text-align: right;\">\n",
              "      <th></th>\n",
              "      <th>Unnamed: 0</th>\n",
              "      <th>title</th>\n",
              "      <th>text</th>\n",
              "      <th>label</th>\n",
              "    </tr>\n",
              "  </thead>\n",
              "  <tbody>\n",
              "    <tr>\n",
              "      <th>0</th>\n",
              "      <td>0</td>\n",
              "      <td>LAW ENFORCEMENT ON HIGH ALERT Following Threat...</td>\n",
              "      <td>No comment is expected from Barack Obama Membe...</td>\n",
              "      <td>1</td>\n",
              "    </tr>\n",
              "    <tr>\n",
              "      <th>1</th>\n",
              "      <td>1</td>\n",
              "      <td>NaN</td>\n",
              "      <td>Did they post their votes for Hillary already?</td>\n",
              "      <td>1</td>\n",
              "    </tr>\n",
              "    <tr>\n",
              "      <th>2</th>\n",
              "      <td>2</td>\n",
              "      <td>UNBELIEVABLE! OBAMA’S ATTORNEY GENERAL SAYS MO...</td>\n",
              "      <td>Now, most of the demonstrators gathered last ...</td>\n",
              "      <td>1</td>\n",
              "    </tr>\n",
              "    <tr>\n",
              "      <th>3</th>\n",
              "      <td>3</td>\n",
              "      <td>Bobby Jindal, raised Hindu, uses story of Chri...</td>\n",
              "      <td>A dozen politically active pastors came here f...</td>\n",
              "      <td>0</td>\n",
              "    </tr>\n",
              "    <tr>\n",
              "      <th>4</th>\n",
              "      <td>4</td>\n",
              "      <td>SATAN 2: Russia unvelis an image of its terrif...</td>\n",
              "      <td>The RS-28 Sarmat missile, dubbed Satan 2, will...</td>\n",
              "      <td>1</td>\n",
              "    </tr>\n",
              "  </tbody>\n",
              "</table>\n",
              "</div>\n",
              "    <div class=\"colab-df-buttons\">\n",
              "\n",
              "  <div class=\"colab-df-container\">\n",
              "    <button class=\"colab-df-convert\" onclick=\"convertToInteractive('df-582abbd3-21b8-4214-aefa-a2eeda6f9416')\"\n",
              "            title=\"Convert this dataframe to an interactive table.\"\n",
              "            style=\"display:none;\">\n",
              "\n",
              "  <svg xmlns=\"http://www.w3.org/2000/svg\" height=\"24px\" viewBox=\"0 -960 960 960\">\n",
              "    <path d=\"M120-120v-720h720v720H120Zm60-500h600v-160H180v160Zm220 220h160v-160H400v160Zm0 220h160v-160H400v160ZM180-400h160v-160H180v160Zm440 0h160v-160H620v160ZM180-180h160v-160H180v160Zm440 0h160v-160H620v160Z\"/>\n",
              "  </svg>\n",
              "    </button>\n",
              "\n",
              "  <style>\n",
              "    .colab-df-container {\n",
              "      display:flex;\n",
              "      gap: 12px;\n",
              "    }\n",
              "\n",
              "    .colab-df-convert {\n",
              "      background-color: #E8F0FE;\n",
              "      border: none;\n",
              "      border-radius: 50%;\n",
              "      cursor: pointer;\n",
              "      display: none;\n",
              "      fill: #1967D2;\n",
              "      height: 32px;\n",
              "      padding: 0 0 0 0;\n",
              "      width: 32px;\n",
              "    }\n",
              "\n",
              "    .colab-df-convert:hover {\n",
              "      background-color: #E2EBFA;\n",
              "      box-shadow: 0px 1px 2px rgba(60, 64, 67, 0.3), 0px 1px 3px 1px rgba(60, 64, 67, 0.15);\n",
              "      fill: #174EA6;\n",
              "    }\n",
              "\n",
              "    .colab-df-buttons div {\n",
              "      margin-bottom: 4px;\n",
              "    }\n",
              "\n",
              "    [theme=dark] .colab-df-convert {\n",
              "      background-color: #3B4455;\n",
              "      fill: #D2E3FC;\n",
              "    }\n",
              "\n",
              "    [theme=dark] .colab-df-convert:hover {\n",
              "      background-color: #434B5C;\n",
              "      box-shadow: 0px 1px 3px 1px rgba(0, 0, 0, 0.15);\n",
              "      filter: drop-shadow(0px 1px 2px rgba(0, 0, 0, 0.3));\n",
              "      fill: #FFFFFF;\n",
              "    }\n",
              "  </style>\n",
              "\n",
              "    <script>\n",
              "      const buttonEl =\n",
              "        document.querySelector('#df-582abbd3-21b8-4214-aefa-a2eeda6f9416 button.colab-df-convert');\n",
              "      buttonEl.style.display =\n",
              "        google.colab.kernel.accessAllowed ? 'block' : 'none';\n",
              "\n",
              "      async function convertToInteractive(key) {\n",
              "        const element = document.querySelector('#df-582abbd3-21b8-4214-aefa-a2eeda6f9416');\n",
              "        const dataTable =\n",
              "          await google.colab.kernel.invokeFunction('convertToInteractive',\n",
              "                                                    [key], {});\n",
              "        if (!dataTable) return;\n",
              "\n",
              "        const docLinkHtml = 'Like what you see? Visit the ' +\n",
              "          '<a target=\"_blank\" href=https://colab.research.google.com/notebooks/data_table.ipynb>data table notebook</a>'\n",
              "          + ' to learn more about interactive tables.';\n",
              "        element.innerHTML = '';\n",
              "        dataTable['output_type'] = 'display_data';\n",
              "        await google.colab.output.renderOutput(dataTable, element);\n",
              "        const docLink = document.createElement('div');\n",
              "        docLink.innerHTML = docLinkHtml;\n",
              "        element.appendChild(docLink);\n",
              "      }\n",
              "    </script>\n",
              "  </div>\n",
              "\n",
              "\n",
              "    <div id=\"df-210d74b0-cb00-4143-addf-9e65779840d3\">\n",
              "      <button class=\"colab-df-quickchart\" onclick=\"quickchart('df-210d74b0-cb00-4143-addf-9e65779840d3')\"\n",
              "                title=\"Suggest charts\"\n",
              "                style=\"display:none;\">\n",
              "\n",
              "<svg xmlns=\"http://www.w3.org/2000/svg\" height=\"24px\"viewBox=\"0 0 24 24\"\n",
              "     width=\"24px\">\n",
              "    <g>\n",
              "        <path d=\"M19 3H5c-1.1 0-2 .9-2 2v14c0 1.1.9 2 2 2h14c1.1 0 2-.9 2-2V5c0-1.1-.9-2-2-2zM9 17H7v-7h2v7zm4 0h-2V7h2v10zm4 0h-2v-4h2v4z\"/>\n",
              "    </g>\n",
              "</svg>\n",
              "      </button>\n",
              "\n",
              "<style>\n",
              "  .colab-df-quickchart {\n",
              "      --bg-color: #E8F0FE;\n",
              "      --fill-color: #1967D2;\n",
              "      --hover-bg-color: #E2EBFA;\n",
              "      --hover-fill-color: #174EA6;\n",
              "      --disabled-fill-color: #AAA;\n",
              "      --disabled-bg-color: #DDD;\n",
              "  }\n",
              "\n",
              "  [theme=dark] .colab-df-quickchart {\n",
              "      --bg-color: #3B4455;\n",
              "      --fill-color: #D2E3FC;\n",
              "      --hover-bg-color: #434B5C;\n",
              "      --hover-fill-color: #FFFFFF;\n",
              "      --disabled-bg-color: #3B4455;\n",
              "      --disabled-fill-color: #666;\n",
              "  }\n",
              "\n",
              "  .colab-df-quickchart {\n",
              "    background-color: var(--bg-color);\n",
              "    border: none;\n",
              "    border-radius: 50%;\n",
              "    cursor: pointer;\n",
              "    display: none;\n",
              "    fill: var(--fill-color);\n",
              "    height: 32px;\n",
              "    padding: 0;\n",
              "    width: 32px;\n",
              "  }\n",
              "\n",
              "  .colab-df-quickchart:hover {\n",
              "    background-color: var(--hover-bg-color);\n",
              "    box-shadow: 0 1px 2px rgba(60, 64, 67, 0.3), 0 1px 3px 1px rgba(60, 64, 67, 0.15);\n",
              "    fill: var(--button-hover-fill-color);\n",
              "  }\n",
              "\n",
              "  .colab-df-quickchart-complete:disabled,\n",
              "  .colab-df-quickchart-complete:disabled:hover {\n",
              "    background-color: var(--disabled-bg-color);\n",
              "    fill: var(--disabled-fill-color);\n",
              "    box-shadow: none;\n",
              "  }\n",
              "\n",
              "  .colab-df-spinner {\n",
              "    border: 2px solid var(--fill-color);\n",
              "    border-color: transparent;\n",
              "    border-bottom-color: var(--fill-color);\n",
              "    animation:\n",
              "      spin 1s steps(1) infinite;\n",
              "  }\n",
              "\n",
              "  @keyframes spin {\n",
              "    0% {\n",
              "      border-color: transparent;\n",
              "      border-bottom-color: var(--fill-color);\n",
              "      border-left-color: var(--fill-color);\n",
              "    }\n",
              "    20% {\n",
              "      border-color: transparent;\n",
              "      border-left-color: var(--fill-color);\n",
              "      border-top-color: var(--fill-color);\n",
              "    }\n",
              "    30% {\n",
              "      border-color: transparent;\n",
              "      border-left-color: var(--fill-color);\n",
              "      border-top-color: var(--fill-color);\n",
              "      border-right-color: var(--fill-color);\n",
              "    }\n",
              "    40% {\n",
              "      border-color: transparent;\n",
              "      border-right-color: var(--fill-color);\n",
              "      border-top-color: var(--fill-color);\n",
              "    }\n",
              "    60% {\n",
              "      border-color: transparent;\n",
              "      border-right-color: var(--fill-color);\n",
              "    }\n",
              "    80% {\n",
              "      border-color: transparent;\n",
              "      border-right-color: var(--fill-color);\n",
              "      border-bottom-color: var(--fill-color);\n",
              "    }\n",
              "    90% {\n",
              "      border-color: transparent;\n",
              "      border-bottom-color: var(--fill-color);\n",
              "    }\n",
              "  }\n",
              "</style>\n",
              "\n",
              "      <script>\n",
              "        async function quickchart(key) {\n",
              "          const quickchartButtonEl =\n",
              "            document.querySelector('#' + key + ' button');\n",
              "          quickchartButtonEl.disabled = true;  // To prevent multiple clicks.\n",
              "          quickchartButtonEl.classList.add('colab-df-spinner');\n",
              "          try {\n",
              "            const charts = await google.colab.kernel.invokeFunction(\n",
              "                'suggestCharts', [key], {});\n",
              "          } catch (error) {\n",
              "            console.error('Error during call to suggestCharts:', error);\n",
              "          }\n",
              "          quickchartButtonEl.classList.remove('colab-df-spinner');\n",
              "          quickchartButtonEl.classList.add('colab-df-quickchart-complete');\n",
              "        }\n",
              "        (() => {\n",
              "          let quickchartButtonEl =\n",
              "            document.querySelector('#df-210d74b0-cb00-4143-addf-9e65779840d3 button');\n",
              "          quickchartButtonEl.style.display =\n",
              "            google.colab.kernel.accessAllowed ? 'block' : 'none';\n",
              "        })();\n",
              "      </script>\n",
              "    </div>\n",
              "\n",
              "    </div>\n",
              "  </div>\n"
            ],
            "text/plain": [
              "   Unnamed: 0                                              title  \\\n",
              "0           0  LAW ENFORCEMENT ON HIGH ALERT Following Threat...   \n",
              "1           1                                                NaN   \n",
              "2           2  UNBELIEVABLE! OBAMA’S ATTORNEY GENERAL SAYS MO...   \n",
              "3           3  Bobby Jindal, raised Hindu, uses story of Chri...   \n",
              "4           4  SATAN 2: Russia unvelis an image of its terrif...   \n",
              "\n",
              "                                                text  label  \n",
              "0  No comment is expected from Barack Obama Membe...      1  \n",
              "1     Did they post their votes for Hillary already?      1  \n",
              "2   Now, most of the demonstrators gathered last ...      1  \n",
              "3  A dozen politically active pastors came here f...      0  \n",
              "4  The RS-28 Sarmat missile, dubbed Satan 2, will...      1  "
            ]
          },
          "execution_count": 72,
          "metadata": {},
          "output_type": "execute_result"
        }
      ],
      "source": [
        "# pirnt the first 5 rows of the dataframe\n",
        "news_dataset.head()"
      ]
    },
    {
      "cell_type": "code",
      "execution_count": 73,
      "metadata": {
        "colab": {
          "base_uri": "https://localhost:8080/",
          "height": 210
        },
        "id": "fUCqgnnvbaXp",
        "outputId": "c0e507dd-ef90-40f3-bfd5-d5743ff4053b"
      },
      "outputs": [
        {
          "data": {
            "text/html": [
              "<div>\n",
              "<style scoped>\n",
              "    .dataframe tbody tr th:only-of-type {\n",
              "        vertical-align: middle;\n",
              "    }\n",
              "\n",
              "    .dataframe tbody tr th {\n",
              "        vertical-align: top;\n",
              "    }\n",
              "\n",
              "    .dataframe thead th {\n",
              "        text-align: right;\n",
              "    }\n",
              "</style>\n",
              "<table border=\"1\" class=\"dataframe\">\n",
              "  <thead>\n",
              "    <tr style=\"text-align: right;\">\n",
              "      <th></th>\n",
              "      <th>0</th>\n",
              "    </tr>\n",
              "  </thead>\n",
              "  <tbody>\n",
              "    <tr>\n",
              "      <th>Unnamed: 0</th>\n",
              "      <td>0</td>\n",
              "    </tr>\n",
              "    <tr>\n",
              "      <th>title</th>\n",
              "      <td>558</td>\n",
              "    </tr>\n",
              "    <tr>\n",
              "      <th>text</th>\n",
              "      <td>39</td>\n",
              "    </tr>\n",
              "    <tr>\n",
              "      <th>label</th>\n",
              "      <td>0</td>\n",
              "    </tr>\n",
              "  </tbody>\n",
              "</table>\n",
              "</div><br><label><b>dtype:</b> int64</label>"
            ],
            "text/plain": [
              "Unnamed: 0      0\n",
              "title         558\n",
              "text           39\n",
              "label           0\n",
              "dtype: int64"
            ]
          },
          "execution_count": 73,
          "metadata": {},
          "output_type": "execute_result"
        }
      ],
      "source": [
        "# counting the number of missing valus in the dataset\n",
        "news_dataset.isnull().sum()"
      ]
    },
    {
      "cell_type": "code",
      "execution_count": 74,
      "metadata": {
        "id": "zB2FJ6fqgKcv"
      },
      "outputs": [],
      "source": [
        "# replacing the null values with empty string\n",
        "news_dataset = news_dataset.fillna('')"
      ]
    },
    {
      "cell_type": "code",
      "execution_count": 75,
      "metadata": {
        "id": "0ce1ZRLwoO4e"
      },
      "outputs": [],
      "source": [
        "# merging the text name of news title\n",
        "news_dataset['content'] = news_dataset['text']+' '+news_dataset['title']"
      ]
    },
    {
      "cell_type": "code",
      "execution_count": 76,
      "metadata": {
        "colab": {
          "base_uri": "https://localhost:8080/"
        },
        "id": "HrDnrbg8ponR",
        "outputId": "572110c3-42d8-4428-dbc3-e49b5b412605"
      },
      "outputs": [
        {
          "name": "stdout",
          "output_type": "stream",
          "text": [
            "0        No comment is expected from Barack Obama Membe...\n",
            "1          Did they post their votes for Hillary already? \n",
            "2         Now, most of the demonstrators gathered last ...\n",
            "3        A dozen politically active pastors came here f...\n",
            "4        The RS-28 Sarmat missile, dubbed Satan 2, will...\n",
            "                               ...                        \n",
            "72129    WASHINGTON (Reuters) - Hackers believed to be ...\n",
            "72130    You know, because in fantasyland Republicans n...\n",
            "72131    Migrants Refuse To Leave Train At Refugee Camp...\n",
            "72132    MEXICO CITY (Reuters) - Donald Trump’s combati...\n",
            "72133    Goldman Sachs Endorses Hillary Clinton For Pre...\n",
            "Name: content, Length: 72134, dtype: object\n"
          ]
        }
      ],
      "source": [
        "print(news_dataset['content'])"
      ]
    },
    {
      "cell_type": "code",
      "execution_count": 77,
      "metadata": {
        "id": "6KADemenp8dy"
      },
      "outputs": [],
      "source": [
        "# Separating the data & label\n",
        "X = news_dataset.drop('label', axis=1)\n",
        "Y = news_dataset['label']"
      ]
    },
    {
      "cell_type": "code",
      "execution_count": 78,
      "metadata": {
        "colab": {
          "base_uri": "https://localhost:8080/"
        },
        "id": "moN5ZLyjuYla",
        "outputId": "5da99abb-d43c-495e-c7a2-71598d1350ba"
      },
      "outputs": [
        {
          "name": "stdout",
          "output_type": "stream",
          "text": [
            "       Unnamed: 0                                              title  \\\n",
            "0               0  LAW ENFORCEMENT ON HIGH ALERT Following Threat...   \n",
            "1               1                                                      \n",
            "2               2  UNBELIEVABLE! OBAMA’S ATTORNEY GENERAL SAYS MO...   \n",
            "3               3  Bobby Jindal, raised Hindu, uses story of Chri...   \n",
            "4               4  SATAN 2: Russia unvelis an image of its terrif...   \n",
            "...           ...                                                ...   \n",
            "72129       72129  Russians steal research on Trump in hack of U....   \n",
            "72130       72130   WATCH: Giuliani Demands That Democrats Apolog...   \n",
            "72131       72131  Migrants Refuse To Leave Train At Refugee Camp...   \n",
            "72132       72132  Trump tussle gives unpopular Mexican leader mu...   \n",
            "72133       72133  Goldman Sachs Endorses Hillary Clinton For Pre...   \n",
            "\n",
            "                                                    text  \\\n",
            "0      No comment is expected from Barack Obama Membe...   \n",
            "1         Did they post their votes for Hillary already?   \n",
            "2       Now, most of the demonstrators gathered last ...   \n",
            "3      A dozen politically active pastors came here f...   \n",
            "4      The RS-28 Sarmat missile, dubbed Satan 2, will...   \n",
            "...                                                  ...   \n",
            "72129  WASHINGTON (Reuters) - Hackers believed to be ...   \n",
            "72130  You know, because in fantasyland Republicans n...   \n",
            "72131  Migrants Refuse To Leave Train At Refugee Camp...   \n",
            "72132  MEXICO CITY (Reuters) - Donald Trump’s combati...   \n",
            "72133  Goldman Sachs Endorses Hillary Clinton For Pre...   \n",
            "\n",
            "                                                 content  \n",
            "0      No comment is expected from Barack Obama Membe...  \n",
            "1        Did they post their votes for Hillary already?   \n",
            "2       Now, most of the demonstrators gathered last ...  \n",
            "3      A dozen politically active pastors came here f...  \n",
            "4      The RS-28 Sarmat missile, dubbed Satan 2, will...  \n",
            "...                                                  ...  \n",
            "72129  WASHINGTON (Reuters) - Hackers believed to be ...  \n",
            "72130  You know, because in fantasyland Republicans n...  \n",
            "72131  Migrants Refuse To Leave Train At Refugee Camp...  \n",
            "72132  MEXICO CITY (Reuters) - Donald Trump’s combati...  \n",
            "72133  Goldman Sachs Endorses Hillary Clinton For Pre...  \n",
            "\n",
            "[72134 rows x 4 columns]\n"
          ]
        }
      ],
      "source": [
        "print(X)"
      ]
    },
    {
      "cell_type": "markdown",
      "metadata": {
        "id": "Mj4OjdlguSdj"
      },
      "source": []
    },
    {
      "cell_type": "markdown",
      "metadata": {
        "id": "qd0QHag21zgg"
      },
      "source": [
        "Stemming:is the process of reducing a word to its Root word"
      ]
    },
    {
      "cell_type": "markdown",
      "metadata": {
        "id": "vEbD8TlL2GB7"
      },
      "source": [
        "ex --> actor, actress, acting --> act"
      ]
    },
    {
      "cell_type": "code",
      "execution_count": 79,
      "metadata": {
        "id": "M1Tyc3fU2gev"
      },
      "outputs": [],
      "source": [
        "port_stem = PorterStemmer()"
      ]
    },
    {
      "cell_type": "code",
      "execution_count": 80,
      "metadata": {
        "id": "UGi_5CN_2oOq"
      },
      "outputs": [],
      "source": [
        "def stemming(content):\n",
        "    stemmed_content = re.sub('[^a-zA-Z]',' ',content)\n",
        "    stemmed_content = stemmed_content.lower()\n",
        "    stemmed_content = stemmed_content.split()\n",
        "    stemmed_content = [port_stem.stem(word) for word in stemmed_content if not word in stopwords.words('english')]\n",
        "    stemmed_content = ' '.join(stemmed_content)\n",
        "    return stemmed_content"
      ]
    },
    {
      "cell_type": "code",
      "execution_count": null,
      "metadata": {
        "id": "djFT_5JHlVI8"
      },
      "outputs": [],
      "source": [
        "news_dataset['content'] = news_dataset['content'].apply(stemming)"
      ]
    },
    {
      "cell_type": "code",
      "execution_count": null,
      "metadata": {
        "id": "J18gHQOSsw-7"
      },
      "outputs": [],
      "source": [
        "#separating the data and label\n",
        "X = news_dataset['content'].values\n",
        "Y = news_dataset['label'].values"
      ]
    },
    {
      "cell_type": "code",
      "execution_count": null,
      "metadata": {
        "id": "nkZWsnV8tVq1"
      },
      "outputs": [],
      "source": [
        "print(Y)"
      ]
    },
    {
      "cell_type": "code",
      "execution_count": null,
      "metadata": {
        "id": "j65fjmk_toIw"
      },
      "outputs": [],
      "source": [
        "Y.shape"
      ]
    },
    {
      "cell_type": "code",
      "execution_count": null,
      "metadata": {
        "id": "C_8nFvKLtqi9"
      },
      "outputs": [],
      "source": [
        "# converting the textual data to numerical data\n",
        "vectorizer = TfidfVectorizer()\n",
        "vectorizer.fit(X)\n",
        "\n",
        "X = vectorizer.transform(X)"
      ]
    },
    {
      "cell_type": "code",
      "execution_count": null,
      "metadata": {
        "id": "elqr6mU8DqDH"
      },
      "outputs": [],
      "source": [
        "print(X)"
      ]
    },
    {
      "cell_type": "code",
      "execution_count": null,
      "metadata": {
        "id": "sJZh4JXiD1Oi"
      },
      "outputs": [],
      "source": [
        "X_train, X_test, Y_train, Y_test = train_test_split(X, Y, test_size = 0.2, stratify=Y, random_state=2)"
      ]
    },
    {
      "cell_type": "markdown",
      "metadata": {
        "id": "5L901G1BQrbv"
      },
      "source": [
        "Training the model: logistic Regression"
      ]
    },
    {
      "cell_type": "code",
      "execution_count": null,
      "metadata": {
        "id": "NVT_dZhaP92t"
      },
      "outputs": [],
      "source": [
        "model = LogisticRegression()"
      ]
    },
    {
      "cell_type": "code",
      "execution_count": null,
      "metadata": {
        "id": "j19J6nryRK6q"
      },
      "outputs": [],
      "source": [
        "model.fit(X_train, Y_train)"
      ]
    },
    {
      "cell_type": "markdown",
      "metadata": {
        "id": "UjN1lW-tT28g"
      },
      "source": [
        "Evaluation\n"
      ]
    },
    {
      "cell_type": "markdown",
      "metadata": {
        "id": "htLPhC3KT7_1"
      },
      "source": [
        "accuracy score\n"
      ]
    },
    {
      "cell_type": "code",
      "execution_count": null,
      "metadata": {
        "id": "XpwfytQyUBf2"
      },
      "outputs": [],
      "source": [
        "# accuracy score on the training data\n",
        "X_train_preadiction = model.predict(X_train)\n",
        "training_data_accuracy = accuracy_score(X_train_preadiction, Y_train)"
      ]
    },
    {
      "cell_type": "code",
      "execution_count": null,
      "metadata": {
        "id": "j5IKqXzjVTS8"
      },
      "outputs": [],
      "source": [
        "print('Accuracy score of the training data', training_data_accuracy)"
      ]
    },
    {
      "cell_type": "code",
      "execution_count": null,
      "metadata": {
        "id": "hbQPRH9nV1V3"
      },
      "outputs": [],
      "source": [
        "# accuracy score on the training data\n",
        "X_test_prediction = model.predict(X_test)\n",
        "test_data_accuracy = accuracy_score(X_test_prediction, Y_test)"
      ]
    },
    {
      "cell_type": "code",
      "execution_count": null,
      "metadata": {
        "id": "FHXCp3SsWqaM"
      },
      "outputs": [],
      "source": [
        "print('Accuracy score of the test data: ', test_data_accuracy)"
      ]
    },
    {
      "cell_type": "markdown",
      "metadata": {
        "id": "rvB99PRkZgg1"
      },
      "source": [
        "Making a Predicitive System"
      ]
    },
    {
      "cell_type": "code",
      "execution_count": null,
      "metadata": {
        "id": "uCl9NBUuZoTf"
      },
      "outputs": [],
      "source": [
        "X_new = X_test[0]\n",
        "\n",
        "preadicition = model.preadict(X_new)\n",
        "print(preadicition)\n",
        "\n",
        "if (preadicition[0]==0):\n",
        "  print('The news is Real')\n",
        "else:\n",
        "  print('The news is Fake')\n"
      ]
    },
    {
      "cell_type": "code",
      "execution_count": null,
      "metadata": {
        "id": "h9i6ZZ1zaGrx"
      },
      "outputs": [],
      "source": [
        "print(Y_test[0])"
      ]
    }
  ],
  "metadata": {
    "colab": {
      "provenance": []
    },
    "kernelspec": {
      "display_name": "Python 3",
      "name": "python3"
    },
    "language_info": {
      "name": "python"
    }
  },
  "nbformat": 4,
  "nbformat_minor": 0
}
